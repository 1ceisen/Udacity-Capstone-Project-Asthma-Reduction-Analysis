{
 "cells": [
  {
   "cell_type": "markdown",
   "metadata": {},
   "source": [
    "# CDC Data"
   ]
  },
  {
   "cell_type": "markdown",
   "metadata": {},
   "source": [
    "## Obtain health outcomes data through the CDC API. "
   ]
  },
  {
   "cell_type": "markdown",
   "metadata": {},
   "source": [
    "#### Load packages"
   ]
  },
  {
   "cell_type": "code",
   "execution_count": 1,
   "metadata": {},
   "outputs": [],
   "source": [
    "# Import packages\n",
    "import pandas as pd\n",
    "from sodapy import Socrata"
   ]
  },
  {
   "cell_type": "markdown",
   "metadata": {},
   "source": [
    "Obtain client access through Socrata"
   ]
  },
  {
   "cell_type": "code",
   "execution_count": 2,
   "metadata": {},
   "outputs": [
    {
     "name": "stderr",
     "output_type": "stream",
     "text": [
      "WARNING:root:Requests made without an app_token will be subject to strict throttling limits.\n"
     ]
    }
   ],
   "source": [
    "# Client access\n",
    "client = Socrata(\"chronicdata.cdc.gov\", None)"
   ]
  },
  {
   "cell_type": "code",
   "execution_count": 3,
   "metadata": {},
   "outputs": [],
   "source": [
    "# Get results in JSON\n",
    "results = client.get(\"i46a-9kgh\", limit = 4000)"
   ]
  },
  {
   "cell_type": "code",
   "execution_count": 4,
   "metadata": {},
   "outputs": [],
   "source": [
    "# Convert to pandas DataFrame\n",
    "CDC = pd.DataFrame.from_records(results)"
   ]
  },
  {
   "cell_type": "code",
   "execution_count": 5,
   "metadata": {},
   "outputs": [
    {
     "data": {
      "text/plain": [
       "(3142, 128)"
      ]
     },
     "execution_count": 5,
     "metadata": {},
     "output_type": "execute_result"
    }
   ],
   "source": [
    "# Shape\n",
    "CDC.shape"
   ]
  },
  {
   "cell_type": "code",
   "execution_count": 6,
   "metadata": {},
   "outputs": [
    {
     "data": {
      "text/html": [
       "<div>\n",
       "<style scoped>\n",
       "    .dataframe tbody tr th:only-of-type {\n",
       "        vertical-align: middle;\n",
       "    }\n",
       "\n",
       "    .dataframe tbody tr th {\n",
       "        vertical-align: top;\n",
       "    }\n",
       "\n",
       "    .dataframe thead th {\n",
       "        text-align: right;\n",
       "    }\n",
       "</style>\n",
       "<table border=\"1\" class=\"dataframe\">\n",
       "  <thead>\n",
       "    <tr style=\"text-align: right;\">\n",
       "      <th></th>\n",
       "      <th>stateabbr</th>\n",
       "      <th>statedesc</th>\n",
       "      <th>countyname</th>\n",
       "      <th>countyfips</th>\n",
       "      <th>totalpopulation</th>\n",
       "      <th>access2_crudeprev</th>\n",
       "      <th>access2_crude95ci</th>\n",
       "      <th>access2_adjprev</th>\n",
       "      <th>access2_adj95ci</th>\n",
       "      <th>arthritis_crudeprev</th>\n",
       "      <th>...</th>\n",
       "      <th>stroke_crude95ci</th>\n",
       "      <th>stroke_adjprev</th>\n",
       "      <th>stroke_adj95ci</th>\n",
       "      <th>teethlost_crudeprev</th>\n",
       "      <th>teethlost_crude95ci</th>\n",
       "      <th>teethlost_adjprev</th>\n",
       "      <th>teethlost_adj95ci</th>\n",
       "      <th>geolocation</th>\n",
       "      <th>:@computed_region_bxsw_vy29</th>\n",
       "      <th>:@computed_region_he4y_prf8</th>\n",
       "    </tr>\n",
       "  </thead>\n",
       "  <tbody>\n",
       "    <tr>\n",
       "      <th>0</th>\n",
       "      <td>NC</td>\n",
       "      <td>North Carolina</td>\n",
       "      <td>Warren</td>\n",
       "      <td>37185</td>\n",
       "      <td>19731</td>\n",
       "      <td>21.8</td>\n",
       "      <td>(19.2, 24.6)</td>\n",
       "      <td>23.3</td>\n",
       "      <td>(20.4, 26.2)</td>\n",
       "      <td>35.6</td>\n",
       "      <td>...</td>\n",
       "      <td>( 6.1,  7.2)</td>\n",
       "      <td>4.8</td>\n",
       "      <td>( 4.5,  5.2)</td>\n",
       "      <td>23.5</td>\n",
       "      <td>(18.3, 29.1)</td>\n",
       "      <td>23.9</td>\n",
       "      <td>(18.6, 29.6)</td>\n",
       "      <td>{'type': 'Point', 'coordinates': [-78.10670979...</td>\n",
       "      <td>37</td>\n",
       "      <td>2328</td>\n",
       "    </tr>\n",
       "    <tr>\n",
       "      <th>1</th>\n",
       "      <td>SC</td>\n",
       "      <td>South Carolina</td>\n",
       "      <td>Aiken</td>\n",
       "      <td>45003</td>\n",
       "      <td>170872</td>\n",
       "      <td>18.9</td>\n",
       "      <td>(16.4, 21.6)</td>\n",
       "      <td>19.7</td>\n",
       "      <td>(17.0, 22.4)</td>\n",
       "      <td>30.8</td>\n",
       "      <td>...</td>\n",
       "      <td>( 3.8,  4.7)</td>\n",
       "      <td>3.5</td>\n",
       "      <td>( 3.2,  3.8)</td>\n",
       "      <td>15.8</td>\n",
       "      <td>(10.6, 21.5)</td>\n",
       "      <td>16.2</td>\n",
       "      <td>(10.9, 21.9)</td>\n",
       "      <td>{'type': 'Point', 'coordinates': [-81.63469146...</td>\n",
       "      <td>33</td>\n",
       "      <td>2704</td>\n",
       "    </tr>\n",
       "    <tr>\n",
       "      <th>2</th>\n",
       "      <td>SC</td>\n",
       "      <td>South Carolina</td>\n",
       "      <td>Calhoun</td>\n",
       "      <td>45017</td>\n",
       "      <td>14553</td>\n",
       "      <td>18.7</td>\n",
       "      <td>(16.4, 21.0)</td>\n",
       "      <td>20.0</td>\n",
       "      <td>(17.6, 22.6)</td>\n",
       "      <td>33.3</td>\n",
       "      <td>...</td>\n",
       "      <td>( 4.8,  5.8)</td>\n",
       "      <td>3.9</td>\n",
       "      <td>( 3.6,  4.3)</td>\n",
       "      <td>17.4</td>\n",
       "      <td>(12.8, 22.7)</td>\n",
       "      <td>17.9</td>\n",
       "      <td>(13.3, 23.3)</td>\n",
       "      <td>{'type': 'Point', 'coordinates': [-80.78010777...</td>\n",
       "      <td>33</td>\n",
       "      <td>2710</td>\n",
       "    </tr>\n",
       "    <tr>\n",
       "      <th>3</th>\n",
       "      <td>SC</td>\n",
       "      <td>South Carolina</td>\n",
       "      <td>Darlington</td>\n",
       "      <td>45031</td>\n",
       "      <td>66618</td>\n",
       "      <td>20.1</td>\n",
       "      <td>(17.4, 22.8)</td>\n",
       "      <td>21.0</td>\n",
       "      <td>(18.1, 23.9)</td>\n",
       "      <td>32.2</td>\n",
       "      <td>...</td>\n",
       "      <td>( 4.8,  5.7)</td>\n",
       "      <td>4.3</td>\n",
       "      <td>( 3.9,  4.6)</td>\n",
       "      <td>20.1</td>\n",
       "      <td>(14.8, 25.8)</td>\n",
       "      <td>20.5</td>\n",
       "      <td>(15.3, 26.6)</td>\n",
       "      <td>{'type': 'Point', 'coordinates': [-79.95862066...</td>\n",
       "      <td>33</td>\n",
       "      <td>745</td>\n",
       "    </tr>\n",
       "    <tr>\n",
       "      <th>4</th>\n",
       "      <td>SC</td>\n",
       "      <td>South Carolina</td>\n",
       "      <td>Florence</td>\n",
       "      <td>45041</td>\n",
       "      <td>138293</td>\n",
       "      <td>19.2</td>\n",
       "      <td>(16.7, 21.8)</td>\n",
       "      <td>19.8</td>\n",
       "      <td>(17.1, 22.6)</td>\n",
       "      <td>29.6</td>\n",
       "      <td>...</td>\n",
       "      <td>( 4.2,  5.1)</td>\n",
       "      <td>4.0</td>\n",
       "      <td>( 3.7,  4.4)</td>\n",
       "      <td>17.2</td>\n",
       "      <td>(12.5, 22.6)</td>\n",
       "      <td>17.7</td>\n",
       "      <td>(12.8, 23.5)</td>\n",
       "      <td>{'type': 'Point', 'coordinates': [-79.70209086...</td>\n",
       "      <td>33</td>\n",
       "      <td>1976</td>\n",
       "    </tr>\n",
       "  </tbody>\n",
       "</table>\n",
       "<p>5 rows × 128 columns</p>\n",
       "</div>"
      ],
      "text/plain": [
       "  stateabbr       statedesc  countyname countyfips totalpopulation  \\\n",
       "0        NC  North Carolina      Warren      37185           19731   \n",
       "1        SC  South Carolina       Aiken      45003          170872   \n",
       "2        SC  South Carolina     Calhoun      45017           14553   \n",
       "3        SC  South Carolina  Darlington      45031           66618   \n",
       "4        SC  South Carolina    Florence      45041          138293   \n",
       "\n",
       "  access2_crudeprev access2_crude95ci access2_adjprev access2_adj95ci  \\\n",
       "0              21.8      (19.2, 24.6)            23.3    (20.4, 26.2)   \n",
       "1              18.9      (16.4, 21.6)            19.7    (17.0, 22.4)   \n",
       "2              18.7      (16.4, 21.0)            20.0    (17.6, 22.6)   \n",
       "3              20.1      (17.4, 22.8)            21.0    (18.1, 23.9)   \n",
       "4              19.2      (16.7, 21.8)            19.8    (17.1, 22.6)   \n",
       "\n",
       "  arthritis_crudeprev  ... stroke_crude95ci stroke_adjprev stroke_adj95ci  \\\n",
       "0                35.6  ...     ( 6.1,  7.2)            4.8   ( 4.5,  5.2)   \n",
       "1                30.8  ...     ( 3.8,  4.7)            3.5   ( 3.2,  3.8)   \n",
       "2                33.3  ...     ( 4.8,  5.8)            3.9   ( 3.6,  4.3)   \n",
       "3                32.2  ...     ( 4.8,  5.7)            4.3   ( 3.9,  4.6)   \n",
       "4                29.6  ...     ( 4.2,  5.1)            4.0   ( 3.7,  4.4)   \n",
       "\n",
       "  teethlost_crudeprev teethlost_crude95ci teethlost_adjprev teethlost_adj95ci  \\\n",
       "0                23.5        (18.3, 29.1)              23.9      (18.6, 29.6)   \n",
       "1                15.8        (10.6, 21.5)              16.2      (10.9, 21.9)   \n",
       "2                17.4        (12.8, 22.7)              17.9      (13.3, 23.3)   \n",
       "3                20.1        (14.8, 25.8)              20.5      (15.3, 26.6)   \n",
       "4                17.2        (12.5, 22.6)              17.7      (12.8, 23.5)   \n",
       "\n",
       "                                         geolocation  \\\n",
       "0  {'type': 'Point', 'coordinates': [-78.10670979...   \n",
       "1  {'type': 'Point', 'coordinates': [-81.63469146...   \n",
       "2  {'type': 'Point', 'coordinates': [-80.78010777...   \n",
       "3  {'type': 'Point', 'coordinates': [-79.95862066...   \n",
       "4  {'type': 'Point', 'coordinates': [-79.70209086...   \n",
       "\n",
       "  :@computed_region_bxsw_vy29 :@computed_region_he4y_prf8  \n",
       "0                          37                        2328  \n",
       "1                          33                        2704  \n",
       "2                          33                        2710  \n",
       "3                          33                         745  \n",
       "4                          33                        1976  \n",
       "\n",
       "[5 rows x 128 columns]"
      ]
     },
     "execution_count": 6,
     "metadata": {},
     "output_type": "execute_result"
    }
   ],
   "source": [
    "# View Data\n",
    "CDC.head()"
   ]
  },
  {
   "cell_type": "code",
   "execution_count": 8,
   "metadata": {},
   "outputs": [],
   "source": [
    "# Export\n",
    "CDC.to_csv(\"Data/CDC.csv\", index = False)"
   ]
  },
  {
   "cell_type": "code",
   "execution_count": null,
   "metadata": {},
   "outputs": [],
   "source": []
  }
 ],
 "metadata": {
  "kernelspec": {
   "display_name": "Python 3",
   "language": "python",
   "name": "python3"
  },
  "language_info": {
   "codemirror_mode": {
    "name": "ipython",
    "version": 3
   },
   "file_extension": ".py",
   "mimetype": "text/x-python",
   "name": "python",
   "nbconvert_exporter": "python",
   "pygments_lexer": "ipython3",
   "version": "3.8.5"
  }
 },
 "nbformat": 4,
 "nbformat_minor": 4
}
